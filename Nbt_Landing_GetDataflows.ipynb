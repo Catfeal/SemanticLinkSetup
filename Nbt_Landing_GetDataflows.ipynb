{
 "cells": [
  {
   "cell_type": "code",
   "execution_count": null,
   "id": "cf9a6664-8f48-4cb4-b747-e38cfdeb31e4",
   "metadata": {
    "microsoft": {
     "language": "python",
     "language_group": "synapse_pyspark"
    }
   },
   "outputs": [
    {
     "data": {
      "application/vnd.livy.statement-meta+json": {
       "execution_finish_time": "2025-09-12T07:37:59.8520917Z",
       "execution_start_time": "2025-09-12T07:37:59.550748Z",
       "livy_statement_state": "available",
       "normalized_state": "finished",
       "parent_msg_id": "60781425-6535-41b9-ab02-6ddf126cc1df",
       "queued_time": "2025-09-12T07:36:28.3877239Z",
       "session_id": "1b0c15bf-d912-42d2-a7c2-a3a0d12c7c7f",
       "session_start_time": null,
       "spark_pool": null,
       "state": "finished",
       "statement_id": 11,
       "statement_ids": [
        11
       ]
      },
      "text/plain": [
       "StatementMeta(, 1b0c15bf-d912-42d2-a7c2-a3a0d12c7c7f, 11, Finished, Available, Finished)"
      ]
     },
     "metadata": {},
     "output_type": "display_data"
    }
   ],
   "source": [
    "## create parameters for this notebook \n",
    "NotebookName = \"Nbt_Landing_GetDataflows\"\n",
    "Table_Name = 'Landing_Fabric_Dataflows'"
   ]
  },
  {
   "cell_type": "code",
   "execution_count": null,
   "id": "2c3ba483-8f35-4009-91f0-a58f7ec20629",
   "metadata": {
    "microsoft": {
     "language": "python",
     "language_group": "synapse_pyspark"
    }
   },
   "outputs": [
    {
     "ename": "",
     "evalue": "",
     "output_type": "error",
     "traceback": [
      "\u001b[1;31mRunning cells with 'Python 3.11.9' requires the ipykernel package.\n",
      "\u001b[1;31m<a href='command:jupyter.createPythonEnvAndSelectController'>Create a Python Environment</a> with the required packages.\n",
      "\u001b[1;31mOr install 'ipykernel' using the command: 'c:/Users/davidjo/AppData/Local/Microsoft/WindowsApps/python3.11.exe -m pip install ipykernel -U --user --force-reinstall'"
     ]
    }
   ],
   "source": [
    "# Run the startup sequence to get all the imports needed\n",
    "%run Fnc_StartupFabricSempy"
   ]
  },
  {
   "cell_type": "code",
   "execution_count": null,
   "id": "64d7476d-7cf9-4fa6-80cd-20a47a5a0dfa",
   "metadata": {
    "microsoft": {
     "language": "python",
     "language_group": "synapse_pyspark"
    }
   },
   "outputs": [],
   "source": [
    "prm_starttime = datetime.now()"
   ]
  },
  {
   "cell_type": "code",
   "execution_count": 3,
   "id": "530824b9-9a9f-4542-b5ad-4f7ebac6ae41",
   "metadata": {
    "collapsed": false,
    "microsoft": {
     "language": "python",
     "language_group": "synapse_pyspark"
    }
   },
   "outputs": [
    {
     "data": {
      "application/vnd.livy.statement-meta+json": {
       "execution_finish_time": "2025-09-12T07:38:24.1795378Z",
       "execution_start_time": "2025-09-12T07:37:59.8541703Z",
       "livy_statement_state": "available",
       "normalized_state": "finished",
       "parent_msg_id": "b318db03-699b-4d45-826b-11493235ae3e",
       "queued_time": "2025-09-12T07:36:28.5188832Z",
       "session_id": "1b0c15bf-d912-42d2-a7c2-a3a0d12c7c7f",
       "session_start_time": null,
       "spark_pool": null,
       "state": "finished",
       "statement_id": 12,
       "statement_ids": [
        12
       ]
      },
      "text/plain": [
       "StatementMeta(, 1b0c15bf-d912-42d2-a7c2-a3a0d12c7c7f, 12, Finished, Available, Finished)"
      ]
     },
     "metadata": {},
     "output_type": "display_data"
    },
    {
     "name": "stdout",
     "output_type": "stream",
     "text": [
      "niet leeg\n"
     ]
    },
    {
     "data": {
      "application/vnd.synapse.widget-view+json": {
       "widget_id": "96eaa48f-c844-494c-8222-b065df09b194",
       "widget_type": "Synapse.DataFrame"
      },
      "text/plain": [
       "SynapseWidget(Synapse.DataFrame, 96eaa48f-c844-494c-8222-b065df09b194)"
      ]
     },
     "metadata": {},
     "output_type": "display_data"
    }
   ],
   "source": [
    "lh_abfs_path = fnc_startUp(Table_Name)"
   ]
  },
  {
   "cell_type": "code",
   "execution_count": null,
   "id": "9da825d9-bfac-4309-9441-ed6041539f51",
   "metadata": {
    "jupyter": {
     "outputs_hidden": false,
     "source_hidden": false
    },
    "microsoft": {
     "language": "python",
     "language_group": "synapse_pyspark"
    },
    "nteract": {
     "transient": {
      "deleting": false
     }
    }
   },
   "outputs": [
    {
     "data": {
      "application/vnd.livy.statement-meta+json": {
       "execution_finish_time": "2025-09-12T07:57:39.327795Z",
       "execution_start_time": "2025-09-12T07:57:36.9921435Z",
       "livy_statement_state": "available",
       "normalized_state": "finished",
       "parent_msg_id": "64bc66d5-6eb8-43a0-8911-2ae5bb46a0b9",
       "queued_time": "2025-09-12T07:57:36.9910408Z",
       "session_id": "1b0c15bf-d912-42d2-a7c2-a3a0d12c7c7f",
       "session_start_time": null,
       "spark_pool": null,
       "state": "finished",
       "statement_id": 29,
       "statement_ids": [
        29
       ]
      },
      "text/plain": [
       "StatementMeta(, 1b0c15bf-d912-42d2-a7c2-a3a0d12c7c7f, 29, Finished, Available, Finished)"
      ]
     },
     "metadata": {},
     "output_type": "display_data"
    }
   ],
   "source": [
    "#fill list of workspaces\n",
    "Workspaces = spark.sql(\"\"\"select Id, Name\n",
    "from Lkh_SemanticLink.Landing_Fabric_Workspaces\"\"\")\n"
   ]
  },
  {
   "cell_type": "code",
   "execution_count": null,
   "id": "30febca1-51bf-4ef8-8c9d-cdc20764e160",
   "metadata": {
    "microsoft": {
     "language": "python",
     "language_group": "synapse_pyspark"
    }
   },
   "outputs": [
    {
     "data": {
      "application/vnd.livy.statement-meta+json": {
       "execution_finish_time": "2025-09-12T08:01:27.2295079Z",
       "execution_start_time": "2025-09-12T07:58:38.5811351Z",
       "livy_statement_state": "available",
       "normalized_state": "finished",
       "parent_msg_id": "7c64695a-46ca-4ab1-89e0-0508cafa2a05",
       "queued_time": "2025-09-12T07:58:38.5800163Z",
       "session_id": "1b0c15bf-d912-42d2-a7c2-a3a0d12c7c7f",
       "session_start_time": null,
       "spark_pool": null,
       "state": "finished",
       "statement_id": 32,
       "statement_ids": [
        32
       ]
      },
      "text/plain": [
       "StatementMeta(, 1b0c15bf-d912-42d2-a7c2-a3a0d12c7c7f, 32, Finished, Available, Finished)"
      ]
     },
     "metadata": {},
     "output_type": "display_data"
    },
    {
     "name": "stderr",
     "output_type": "stream",
     "text": [
      "/home/trusted-service-user/cluster-env/clonedenv/lib/python3.11/site-packages/sempy/_utils/_pandas_utils.py:148: UserWarning: Missing columns from backend: ['description']\n",
      "  warnings.warn(UserWarning(f\"Missing columns from backend: {missing_columns}\"))\n"
     ]
    },
    {
     "name": "stderr",
     "output_type": "stream",
     "text": [
      "/home/trusted-service-user/cluster-env/clonedenv/lib/python3.11/site-packages/sempy/_utils/_pandas_utils.py:148: UserWarning: Missing columns from backend: ['description']\n",
      "  warnings.warn(UserWarning(f\"Missing columns from backend: {missing_columns}\"))\n"
     ]
    }
   ],
   "source": [
    "for Id, Name in Workspaces.toLocalIterator():\n",
    "    temp_items = fabric.list_dataflows(workspace=Id)\n",
    "    itemdf = pd.DataFrame(temp_items)\n",
    "    if not itemdf.empty: # check if the list is not empty to avoid errors\n",
    "        #prepare items and write them away\n",
    "        try:\n",
    "            itemdf = fnc_PrepareColumns(itemdf)\n",
    "            sparkdf = spark.createDataFrame(itemdf)\n",
    "            sparkdf = sparkdf.withColumn('WSID', lit(Id))\n",
    "            sparkdf.write.format(\"delta\").option(\"mergeSchema\", \"true\").mode(\"append\").save(f\"{lh_abfs_path}/Tables/{Table_Name}\")\n",
    "            #print(Table_Name_Items, \"created at :\", f\"{lh_abfs_path}/Tables/{Table_Name_Items}\")                        \n",
    "        except Exception as e:\n",
    "            print(f\"Error fetching Workspace objects for {Id}: {e}\")\n",
    "            continue"
   ]
  },
  {
   "cell_type": "code",
   "execution_count": 5,
   "id": "d8d6de7b-ed6c-4a5a-8c77-324c1fd04ff2",
   "metadata": {
    "editable": false,
    "microsoft": {
     "language": "python",
     "language_group": "synapse_pyspark"
    },
    "run_control": {
     "frozen": true
    }
   },
   "outputs": [
    {
     "data": {
      "application/vnd.livy.statement-meta+json": {
       "execution_finish_time": "2025-09-02T13:15:35.651281Z",
       "execution_start_time": "2025-09-02T13:13:58.293451Z",
       "livy_statement_state": "available",
       "normalized_state": "finished",
       "parent_msg_id": "c29355f5-70d9-4f7b-8428-ad2ac7a848e3",
       "queued_time": "2025-09-02T13:12:24.2412837Z",
       "session_id": "81b961eb-c0b2-476d-8b7e-0cd8c073704a",
       "session_start_time": null,
       "spark_pool": null,
       "state": "finished",
       "statement_id": 12,
       "statement_ids": [
        12
       ]
      },
      "text/plain": [
       "StatementMeta(, 81b961eb-c0b2-476d-8b7e-0cd8c073704a, 12, Finished, Available, Finished)"
      ]
     },
     "metadata": {},
     "output_type": "display_data"
    },
    {
     "name": "stderr",
     "output_type": "stream",
     "text": [
      "/home/trusted-service-user/cluster-env/clonedenv/lib/python3.11/site-packages/sempy/_utils/_pandas_utils.py:148: UserWarning: Missing columns from backend: ['description']\n",
      "  warnings.warn(UserWarning(f\"Missing columns from backend: {missing_columns}\"))\n",
      "/home/trusted-service-user/cluster-env/clonedenv/lib/python3.11/site-packages/sempy/_utils/_pandas_utils.py:148: UserWarning: Missing columns from backend: ['description']\n",
      "  warnings.warn(UserWarning(f\"Missing columns from backend: {missing_columns}\"))\n",
      "/home/trusted-service-user/cluster-env/clonedenv/lib/python3.11/site-packages/sempy/_utils/_pandas_utils.py:148: UserWarning: Missing columns from backend: ['description']\n",
      "  warnings.warn(UserWarning(f\"Missing columns from backend: {missing_columns}\"))\n"
     ]
    }
   ],
   "source": [
    "\n",
    "# loop through the workspaces\n",
    "for label, content in df.items():\n",
    "    if label == 'Id': #loop through the ID's\n",
    "        for id in content:\n",
    "            #lijst vullen met alle items in de werkruimte\n",
    "            temp_items = fabric.list_dataflows(workspace=id)\n",
    "            itemdf = pd.DataFrame(temp_items)\n",
    "            if not itemdf.empty: # check if the list is not empty to avoid errors\n",
    "                #prepare items and write them away\n",
    "                try:\n",
    "                    itemdf = fnc_PrepareColumns(itemdf)\n",
    "                    sparkdf = spark.createDataFrame(itemdf)\n",
    "                    sparkdf = sparkdf.withColumn('WSID', lit(id))\n",
    "                    sparkdf.write.format(\"delta\").option(\"mergeSchema\", \"true\").mode(\"append\").save(f\"{lh_abfs_path}/Tables/{Table_Name}\")\n",
    "                    #print(Table_Name_Items, \"created at :\", f\"{lh_abfs_path}/Tables/{Table_Name_Items}\")                        \n",
    "                except Exception as e:\n",
    "                    print(f\"Error fetching Workspace objects for {id}: {e}\")\n",
    "                    continue"
   ]
  },
  {
   "cell_type": "code",
   "execution_count": null,
   "id": "b8fcf2a8-fa4d-41d8-9dba-89a87341ee06",
   "metadata": {
    "microsoft": {
     "language": "python",
     "language_group": "synapse_pyspark"
    }
   },
   "outputs": [
    {
     "data": {
      "application/vnd.livy.statement-meta+json": {
       "execution_finish_time": "2025-09-12T07:38:37.9050586Z",
       "execution_start_time": null,
       "livy_statement_state": null,
       "normalized_state": "cancelled",
       "parent_msg_id": "b94d1b61-1551-41a2-938d-b0ca0f50e1a4",
       "queued_time": "2025-09-12T07:36:28.8871454Z",
       "session_id": "1b0c15bf-d912-42d2-a7c2-a3a0d12c7c7f",
       "session_start_time": null,
       "spark_pool": null,
       "state": "cancelled",
       "statement_id": -1,
       "statement_ids": null
      },
      "text/plain": [
       "StatementMeta(, 1b0c15bf-d912-42d2-a7c2-a3a0d12c7c7f, -1, Cancelled, , Cancelled)"
      ]
     },
     "metadata": {},
     "output_type": "display_data"
    }
   ],
   "source": [
    "prm_endtime = datetime.utcnow()\n",
    "fnc_LognotebookRefresh(NotebookName, prm_starttime, prm_endtime)"
   ]
  }
 ],
 "metadata": {
  "dependencies": {
   "lakehouse": {
    "default_lakehouse": "060fba99-17e2-4946-b182-3ab820ed66f8",
    "default_lakehouse_name": "Lkh_SemanticLink",
    "default_lakehouse_workspace_id": "1c0073d5-1ff1-4af1-9a1d-7f57255eb849",
    "known_lakehouses": [
     {
      "id": "060fba99-17e2-4946-b182-3ab820ed66f8"
     }
    ]
   }
  },
  "kernel_info": {
   "name": "synapse_pyspark"
  },
  "kernelspec": {
   "display_name": "Python 3",
   "language": "python",
   "name": "python3"
  },
  "language_info": {
   "name": "python",
   "version": "3.11.9"
  },
  "microsoft": {
   "language": "python",
   "language_group": "synapse_pyspark",
   "ms_spell_check": {
    "ms_spell_check_language": "en"
   }
  },
  "nteract": {
   "version": "nteract-front-end@1.0.0"
  },
  "spark_compute": {
   "compute_id": "/trident/default",
   "session_options": {
    "conf": {
     "spark.synapse.nbs.session.timeout": "1200000"
    }
   }
  },
  "synapse_widget": {
   "state": {
    "96eaa48f-c844-494c-8222-b065df09b194": {
     "persist_state": {
      "view": {
       "chartOptions": {
        "aggregationType": "sum",
        "binsNumber": 10,
        "categoryFieldKeys": [],
        "chartType": "bar",
        "isStacked": false,
        "seriesFieldKeys": [],
        "wordFrequency": "-1"
       },
       "tableOptions": {},
       "type": "details",
       "viewOptionsGroup": [
        {
         "tabItems": [
          {
           "key": "0",
           "name": "Table",
           "options": {},
           "type": "table"
          }
         ]
        }
       ]
      }
     },
     "sync_state": {
      "isSummary": false,
      "is_jupyter": false,
      "language": "scala",
      "table": {
       "rows": [
        {
         "0": "/synfs/notebook/1b0c15bf-d912-42d2-a7c2-a3a0d12c7c7f/Lkh_SemanticLink",
         "1": "/Lkh_SemanticLink",
         "2": "job",
         "3": "abfss://1c0073d5-1ff1-4af1-9a1d-7f57255eb849@onelake.dfs.fabric.microsoft.com/060fba99-17e2-4946-b182-3ab820ed66f8",
         "4": "Lakehouse"
        }
       ],
       "schema": [
        {
         "key": "0",
         "name": "localPath",
         "type": "string"
        },
        {
         "key": "1",
         "name": "mountPoint",
         "type": "string"
        },
        {
         "key": "2",
         "name": "scope",
         "type": "string"
        },
        {
         "key": "3",
         "name": "source",
         "type": "string"
        },
        {
         "key": "4",
         "name": "storageType",
         "type": "string"
        }
       ],
       "truncated": false
      }
     },
     "type": "Synapse.DataFrame"
    }
   },
   "version": "0.1"
  },
  "widgets": {}
 },
 "nbformat": 4,
 "nbformat_minor": 5
}
